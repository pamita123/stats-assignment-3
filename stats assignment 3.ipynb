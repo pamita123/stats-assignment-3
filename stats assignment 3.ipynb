{
 "cells": [
  {
   "cell_type": "markdown",
   "metadata": {},
   "source": [
    "Problem Statement 1\n",
    "H0: mu =100\n",
    "H1: mu!=100"
   ]
  },
  {
   "cell_type": "code",
   "execution_count": 2,
   "metadata": {},
   "outputs": [],
   "source": [
    "\n",
    "pop_mean = 100\n",
    "pop_std = 12\n",
    "n = 36\n",
    "sam_mean = 108"
   ]
  },
  {
   "cell_type": "code",
   "execution_count": 3,
   "metadata": {},
   "outputs": [
    {
     "data": {
      "text/plain": [
       "4.0"
      ]
     },
     "execution_count": 3,
     "metadata": {},
     "output_type": "execute_result"
    }
   ],
   "source": [
    "import numpy as np\n",
    "from scipy import stats\n",
    "\n",
    "def get_zscore_1(mu,sigma,x_bar,n):\n",
    "    return (x_bar-mu)/(sigma/np.sqrt(n))\n",
    "\n",
    "z_score = get_zscore_1(pop_mean,pop_std,sam_mean,n)\n",
    "z_score"
   ]
  },
  {
   "cell_type": "code",
   "execution_count": 4,
   "metadata": {},
   "outputs": [
    {
     "data": {
      "text/plain": [
       "1.959963984540054"
      ]
     },
     "execution_count": 4,
     "metadata": {},
     "output_type": "execute_result"
    }
   ],
   "source": [
    "\n",
    "alpha = 0.05\n",
    "p = 1-alpha/2\n",
    "\n",
    "critical=stats.norm.ppf(abs(p))\n",
    "critical"
   ]
  },
  {
   "cell_type": "code",
   "execution_count": 5,
   "metadata": {},
   "outputs": [
    {
     "name": "stdout",
     "output_type": "stream",
     "text": [
      "H0 rejected\n"
     ]
    }
   ],
   "source": [
    "\n",
    "if(abs(z_score)>critical):\n",
    "    print(\"H0 rejected\")\n",
    "else:\n",
    "    print(\"H0 accepted\")"
   ]
  },
  {
   "cell_type": "markdown",
   "metadata": {},
   "source": [
    "\n",
    "Problem Statement 2\n",
    "H0 : p_1 >= p_2\n",
    "H1 : p_1<p_2"
   ]
  },
  {
   "cell_type": "code",
   "execution_count": 6,
   "metadata": {},
   "outputs": [],
   "source": [
    "\n",
    "def get_zscore(p_1,p_2,n1,n2,D=0): #D = difference in population proportion\n",
    "    numerator = (p_1-p_2)-D\n",
    "    denominator = np.sqrt(p_1*(1-p_1)/n1 +p_2*(1-p_2)/n2)\n",
    "    z_value = numerator/denominator\n",
    "    return z_value"
   ]
  },
  {
   "cell_type": "code",
   "execution_count": 7,
   "metadata": {},
   "outputs": [],
   "source": [
    "p_1 = 0.52\n",
    "p_2 = 0.47\n",
    "n1 = 100\n",
    "n2=100\n",
    "z_score = get_zscore(p_1,p_2,n1,n2)\n"
   ]
  },
  {
   "cell_type": "code",
   "execution_count": 8,
   "metadata": {},
   "outputs": [
    {
     "data": {
      "text/plain": [
       "0.7080278164104213"
      ]
     },
     "execution_count": 8,
     "metadata": {},
     "output_type": "execute_result"
    }
   ],
   "source": [
    "z_score"
   ]
  },
  {
   "cell_type": "code",
   "execution_count": 9,
   "metadata": {},
   "outputs": [
    {
     "name": "stdout",
     "output_type": "stream",
     "text": [
      "Probability of greater percentage of Republican voters in second state than in first state: 0.23946399182220013\n"
     ]
    }
   ],
   "source": [
    "p_value=1 - stats.norm.cdf(abs(z_score))\n",
    "print(\"Probability of greater percentage of Republican voters in second state than in first state: {}\".format(p_value))\n"
   ]
  },
  {
   "cell_type": "code",
   "execution_count": null,
   "metadata": {},
   "outputs": [],
   "source": [
    "Problem Statement 3"
   ]
  },
  {
   "cell_type": "code",
   "execution_count": 10,
   "metadata": {},
   "outputs": [
    {
     "data": {
      "text/plain": [
       "0.35406698564593303"
      ]
     },
     "execution_count": 10,
     "metadata": {},
     "output_type": "execute_result"
    }
   ],
   "source": [
    "z_score = get_zscore_1(1026,209,1100,n=1)\n",
    "z_score"
   ]
  },
  {
   "cell_type": "code",
   "execution_count": null,
   "metadata": {},
   "outputs": [],
   "source": []
  }
 ],
 "metadata": {
  "kernelspec": {
   "display_name": "Python 3",
   "language": "python",
   "name": "python3"
  },
  "language_info": {
   "codemirror_mode": {
    "name": "ipython",
    "version": 3
   },
   "file_extension": ".py",
   "mimetype": "text/x-python",
   "name": "python",
   "nbconvert_exporter": "python",
   "pygments_lexer": "ipython3",
   "version": "3.7.4"
  }
 },
 "nbformat": 4,
 "nbformat_minor": 2
}
